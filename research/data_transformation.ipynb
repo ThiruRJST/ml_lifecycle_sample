{
 "cells": [
  {
   "cell_type": "code",
   "execution_count": 1,
   "metadata": {},
   "outputs": [
    {
     "name": "stdout",
     "output_type": "stream",
     "text": [
      "/home/tensorthiru/ml_lifecycle_sample/research\n",
      "/home/tensorthiru/ml_lifecycle_sample\n"
     ]
    }
   ],
   "source": [
    "import os\n",
    "\n",
    "!pwd\n",
    "os.chdir(\"../\")\n",
    "!pwd"
   ]
  },
  {
   "cell_type": "code",
   "execution_count": 14,
   "metadata": {},
   "outputs": [],
   "source": [
    "from dataclasses import dataclass\n",
    "from pathlib import Path\n",
    "\n",
    "\n",
    "@dataclass\n",
    "class DataTransformationConfig:\n",
    "    root_dir: Path\n",
    "    data_file: Path\n",
    "    status_file: Path"
   ]
  },
  {
   "cell_type": "code",
   "execution_count": 15,
   "metadata": {},
   "outputs": [],
   "source": [
    "from src.pipeline_sample.utils.common import *\n",
    "from src.pipeline_sample.constants import *"
   ]
  },
  {
   "cell_type": "code",
   "execution_count": 17,
   "metadata": {},
   "outputs": [],
   "source": [
    "class ConfigurationManager:\n",
    "    def __init__(self,\n",
    "                 config_filepath: Path = CONFIG_FILE_PATH,\n",
    "                 schema_file_path: Path = SCHEMA_FILE_PATH,\n",
    "                 params_file_path: Path = PARAMS_FILE_PATH):\n",
    "        \n",
    "        self.config = read_yaml(config_filepath)\n",
    "        self.params = read_yaml(params_file_path)\n",
    "        self.schema = read_yaml(schema_file_path)\n",
    "        \n",
    "        if type(self.config.artifacts_root) == str:\n",
    "            create_directories([self.config.artifacts_root])\n",
    "        else:\n",
    "            create_directories(self.config.artifacts_root)\n",
    "    \n",
    "    def get_data_transformation_config(self) -> DataTransformationConfig:\n",
    "        \n",
    "        status_file_path = self.config.data_validation.status_file\n",
    "        config = self.config.data_transformation\n",
    "        create_directories([config.root_dir])\n",
    "        \n",
    "        data_transformation_config = DataTransformationConfig(\n",
    "            root_dir=Path(config.root_dir),\n",
    "            data_file=Path(config.data_file),\n",
    "            status_file=Path(status_file_path)\n",
    "        )\n",
    "        \n",
    "        return data_transformation_config"
   ]
  },
  {
   "cell_type": "code",
   "execution_count": 18,
   "metadata": {},
   "outputs": [],
   "source": [
    "import os\n",
    "from src.pipeline_sample import logger"
   ]
  },
  {
   "cell_type": "code",
   "execution_count": 20,
   "metadata": {},
   "outputs": [],
   "source": [
    "##Component\n",
    "import json\n",
    "import pandas as pd\n",
    "\n",
    "from sklearn.model_selection import train_test_split\n",
    "\n",
    "class DataTransformation:\n",
    "    def __init__(self, config: DataTransformationConfig):\n",
    "        self.config = config\n",
    "        create_directories([self.config.root_dir])\n",
    "    \n",
    "    def initiate_data_transformation(self):\n",
    "        \n",
    "        status_check = json.load(open(self.config.status_file, 'r'))\n",
    "        if status_check['validation_status'] == \"Success\":\n",
    "            data = pd.read_csv(self.config.data_file)\n",
    "            \n",
    "            ##Data Transformation\n",
    "            train_data, test_data = train_test_split(data, test_size=0.2, random_state=42)\n",
    "            logger.info(f\"Dataset Split into Train and Test with shapes: {train_data.shape} and {test_data.shape} respectively.\")\n",
    "            \n",
    "            train_data.to_csv(os.path.join(self.config.root_dir, \"train_data.csv\"), index=False)\n",
    "            test_data.to_csv(os.path.join(self.config.root_dir, \"test_data.csv\"), index=False)"
   ]
  },
  {
   "cell_type": "code",
   "execution_count": null,
   "metadata": {},
   "outputs": [],
   "source": []
  }
 ],
 "metadata": {
  "kernelspec": {
   "display_name": "venv",
   "language": "python",
   "name": "python3"
  },
  "language_info": {
   "codemirror_mode": {
    "name": "ipython",
    "version": 3
   },
   "file_extension": ".py",
   "mimetype": "text/x-python",
   "name": "python",
   "nbconvert_exporter": "python",
   "pygments_lexer": "ipython3",
   "version": "3.10.16"
  }
 },
 "nbformat": 4,
 "nbformat_minor": 2
}
